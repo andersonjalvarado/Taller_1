{
 "cells": [
  {
   "cell_type": "markdown",
   "metadata": {},
   "source": [
    "# Taller Grupal 1 - Métodos y aplicaciones de analítica I\n",
    "\n",
    "**Anderson Alvarado & Juan Felipe Gonzalez Rodriguez**"
   ]
  },
  {
   "cell_type": "markdown",
   "metadata": {},
   "source": [
    "# Librerias"
   ]
  },
  {
   "cell_type": "markdown",
   "metadata": {},
   "source": [
    "# Carga de Datos"
   ]
  },
  {
   "cell_type": "markdown",
   "metadata": {},
   "source": [
    "# Preguntas"
   ]
  },
  {
   "cell_type": "markdown",
   "metadata": {},
   "source": [
    "## a) Están interesados en saber qué productos o categorías de productos se venden bien juntos."
   ]
  },
  {
   "cell_type": "markdown",
   "metadata": {},
   "source": [
    "## b) A partir de ello, desean recomendaciones específicas separadas para su tienda virtual y sus tiendas físicas."
   ]
  },
  {
   "cell_type": "markdown",
   "metadata": {},
   "source": [
    "## c) Finalmente, están curiosos acerca de qué otra información podría darles las diversas bases de datos allí presentes que pudiese ser valiosa para comprender las dinámicas del comportamiento de sus usuarios /productos."
   ]
  }
 ],
 "metadata": {
  "language_info": {
   "name": "python"
  }
 },
 "nbformat": 4,
 "nbformat_minor": 2
}
